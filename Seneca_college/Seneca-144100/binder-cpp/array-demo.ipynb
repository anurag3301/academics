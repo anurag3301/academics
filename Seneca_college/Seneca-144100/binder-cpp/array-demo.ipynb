{
 "cells": [
  {
   "cell_type": "markdown",
   "id": "42c8dff2",
   "metadata": {},
   "source": [
    "# Introduction to Arrays\n",
    "Arrays are a way to store many values in a single variable. You can specify the value you want using a subscript. A subscript is an integer from 0 up to one less that the number of spaces in the array and indicates which member of the array you want to access. \n",
    "\n",
    "When we declare an array, we specify the:\n",
    "* type of data the array can contain\n",
    "* the maximum number of spaces for values that the array has\n",
    "\n",
    "An array cannot hold more values than the number of spaces created when the array was declared. We need to ensure that we create sufficient space as it is difficult to change it after the array has been created.\n",
    "\n",
    "The next line declares an array of 10 ints. You can execute it by clinking run or hitting CTRL-ENTER."
   ]
  },
  {
   "cell_type": "code",
   "execution_count": 1,
   "id": "9f447e9f",
   "metadata": {},
   "outputs": [],
   "source": [
    "#include <stdio.h>\n",
    "#include <iostream>\n",
    "using namespace std;\n",
    "int array1[10];"
   ]
  },
  {
   "cell_type": "markdown",
   "id": "9db4c3a0",
   "metadata": {},
   "source": [
    "If you ran the line above, you just created your first array! It has 10 elements in it, as indicated by the number in square brackets and can only contain ints. Arrays are constrained in that all of the elements of the array must contain values of the same type. Since we did not initialize this array, the values stored in it are whatever values happened to be in the memory allocated for the array. These values are often zero but this can change and we treat the values in an uninitialized array as unknown. THis does not mean that the 10 integers do not exist, they do, but that we have no idea what their values are until we assign a value to them.\n",
    "\n",
    "We can only set or get the value of one element of an array at a time. We use a subscript to indicate the element we want to access. Subscripts go from 0 upwards so our array of 10 elements has subscripts from 0 (the first element) to 9 (the last element). Using a subscript outside this range will result in an error of one type or another. Some compilers might not detect these mitakes and the program might crash, usually with a segmentation fault.\n",
    "\n",
    "Now, let's assign a value to the first element in our array."
   ]
  },
  {
   "cell_type": "code",
   "execution_count": 2,
   "id": "7169736b",
   "metadata": {},
   "outputs": [
    {
     "name": "stdout",
     "output_type": "stream",
     "text": [
      "The first value is 99\n"
     ]
    }
   ],
   "source": [
    "array1[0] = 99;\n",
    "//printf(\"The first value is %d\\n\", array1[0]);\n",
    "cout << \"The first value is \" << array1[0] << endl;"
   ]
  },
  {
   "cell_type": "markdown",
   "id": "d92c2992",
   "metadata": {},
   "source": [
    "As you can see, subscripts are enclosed in square brackets. The same notation is used to both assign a value to a member of an array and to retrieve the value.\n",
    "\n",
    "The true power of arrays comes when we use a loop to process them. We can have a loop generate a series of subscripts and use the value of the loop variable to access each member of the array. The next cell shows how we can set the values of the array to be the numbers from 1 to 10."
   ]
  },
  {
   "cell_type": "code",
   "execution_count": 3,
   "id": "b90ce748",
   "metadata": {},
   "outputs": [
    {
     "name": "stdout",
     "output_type": "stream",
     "text": [
      "1 2 3 4 5 6 7 8 9 10 \n"
     ]
    }
   ],
   "source": [
    "int i;\n",
    "for(i = 0; i < 10; i++)\n",
    "{\n",
    "    array1[i] = i + 1;\n",
    "}\n",
    "\n",
    "// now print the values in the array\n",
    "for(i = 0; i < 10; i++)\n",
    "{\n",
    "    //printf(\"%d \", array1[i]);\n",
    "    cout << array1[i] << \" \";\n",
    "}\n",
    "cout << endl;"
   ]
  },
  {
   "cell_type": "code",
   "execution_count": null,
   "id": "ddb62464",
   "metadata": {},
   "outputs": [],
   "source": []
  }
 ],
 "metadata": {
  "kernelspec": {
   "display_name": "C++14",
   "language": "C++14",
   "name": "xcpp14"
  },
  "language_info": {
   "codemirror_mode": "text/x-c++src",
   "file_extension": ".cpp",
   "mimetype": "text/x-c++src",
   "name": "c++",
   "version": "14"
  }
 },
 "nbformat": 4,
 "nbformat_minor": 5
}
